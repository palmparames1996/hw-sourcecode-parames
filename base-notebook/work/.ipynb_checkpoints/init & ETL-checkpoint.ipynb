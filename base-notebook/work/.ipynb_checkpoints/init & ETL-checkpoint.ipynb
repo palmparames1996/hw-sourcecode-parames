{
 "cells": [
  {
   "cell_type": "code",
   "execution_count": 1,
   "id": "171c11b2-411e-45f2-9b46-d43d481baa89",
   "metadata": {},
   "outputs": [],
   "source": [
    "import psycopg2\n",
    "from sqlalchemy import create_engine\n",
    "\n",
    "import os\n",
    "import pandas as pd\n",
    "\n",
    "def pgsql_conn(engine):\n",
    "    if engine == 'psycopg2':\n",
    "        conn = psycopg2.connect(\n",
    "            database = os.environ['POSTGRES_DB'], \n",
    "            user = os.environ['POSTGRES_USER'],\n",
    "            host = os.environ['POSTGRES_HOST'],\n",
    "            password = os.environ['POSTGRES_PASSWORD'],\n",
    "            port = os.environ['POSTGRES_PORT']\n",
    "        )\n",
    "    elif engine == 'sqlalchemy' :\n",
    "        conn_string = 'postgresql://{}:{}@{}:{}/{}'.format(\n",
    "            os.environ['POSTGRES_USER']\n",
    "            , os.environ['POSTGRES_PASSWORD']\n",
    "            , os.environ['POSTGRES_HOST']\n",
    "            , os.environ['POSTGRES_PORT']\n",
    "            , os.environ['POSTGRES_DB']\n",
    "        )\n",
    "        db = create_engine(conn_string) \n",
    "        conn = db.connect()\n",
    "    else:\n",
    "        raise ValueError('engine not contain in (psycopg2,sqlalchemy)')\n",
    "    return conn\n",
    "\n",
    "def executeScriptsFromFile(filename):\n",
    "    conn = pgsql_conn('psycopg2')\n",
    "    conn.autocommit = True\n",
    "    cursor = conn.cursor() \n",
    "    fd = open(filename, 'r')\n",
    "    sqlFile = fd.read()\n",
    "    fd.close()\n",
    "    sqlCommands = sqlFile.split(';')[:-1]\n",
    "    for command in sqlCommands:\n",
    "        cursor.execute(command)   \n",
    "    conn.close()\n",
    "    return sqlCommands\n",
    "\n",
    "def pgsql_pd_insert(df, table_name, if_exists='append', index=False):\n",
    "    conn = pgsql_conn('sqlalchemy')\n",
    "    df.to_sql(table_name, con=conn, if_exists=if_exists, index=index)\n",
    "    conn.close()\n",
    "    return\n",
    "    \n",
    "def pgsql_pd_read(sql):\n",
    "    conn = pgsql_conn('sqlalchemy')\n",
    "    df = pd.read_sql_query(sql, con = conn)\n",
    "    conn.close()\n",
    "    return df"
   ]
  },
  {
   "cell_type": "markdown",
   "id": "54f2e5cc-aa97-47d5-8c99-74bb545de707",
   "metadata": {},
   "source": [
    "# Init postgres DB"
   ]
  },
  {
   "cell_type": "code",
   "execution_count": 2,
   "id": "86a0ce74-4ba9-4878-a720-8944208cbda0",
   "metadata": {},
   "outputs": [],
   "source": [
    "log_init = executeScriptsFromFile('soruceCode.sql')"
   ]
  },
  {
   "cell_type": "markdown",
   "id": "eb3eb21f-591f-4ff6-b5e8-a7fc8263212c",
   "metadata": {},
   "source": [
    "# Part A : EDA Process"
   ]
  },
  {
   "cell_type": "code",
   "execution_count": 3,
   "id": "484a63a7-c7f1-4544-b345-79abee4ffdac",
   "metadata": {},
   "outputs": [],
   "source": [
    "df = pd.read_csv('bestsellers with categories.csv')"
   ]
  },
  {
   "cell_type": "markdown",
   "id": "a95bc3eb-ffae-4640-8990-7380ecf73886",
   "metadata": {},
   "source": [
    "## A1 : Count row"
   ]
  },
  {
   "cell_type": "code",
   "execution_count": 4,
   "id": "bb7e8375-47bd-47c1-93fe-9939de00016a",
   "metadata": {},
   "outputs": [
    {
     "data": {
      "text/html": [
       "<div>\n",
       "<style scoped>\n",
       "    .dataframe tbody tr th:only-of-type {\n",
       "        vertical-align: middle;\n",
       "    }\n",
       "\n",
       "    .dataframe tbody tr th {\n",
       "        vertical-align: top;\n",
       "    }\n",
       "\n",
       "    .dataframe thead th {\n",
       "        text-align: right;\n",
       "    }\n",
       "</style>\n",
       "<table border=\"1\" class=\"dataframe\">\n",
       "  <thead>\n",
       "    <tr style=\"text-align: right;\">\n",
       "      <th></th>\n",
       "      <th>Name</th>\n",
       "      <th>Author</th>\n",
       "      <th>User Rating</th>\n",
       "      <th>Reviews</th>\n",
       "      <th>Price</th>\n",
       "      <th>Year</th>\n",
       "      <th>Genre</th>\n",
       "    </tr>\n",
       "  </thead>\n",
       "  <tbody>\n",
       "    <tr>\n",
       "      <th>545</th>\n",
       "      <td>Wrecking Ball (Diary of a Wimpy Kid Book 14)</td>\n",
       "      <td>Jeff Kinney</td>\n",
       "      <td>4.9</td>\n",
       "      <td>9413</td>\n",
       "      <td>8</td>\n",
       "      <td>2019</td>\n",
       "      <td>Fiction</td>\n",
       "    </tr>\n",
       "    <tr>\n",
       "      <th>546</th>\n",
       "      <td>You Are a Badass: How to Stop Doubting Your Gr...</td>\n",
       "      <td>Jen Sincero</td>\n",
       "      <td>4.7</td>\n",
       "      <td>14331</td>\n",
       "      <td>8</td>\n",
       "      <td>2016</td>\n",
       "      <td>Non Fiction</td>\n",
       "    </tr>\n",
       "    <tr>\n",
       "      <th>547</th>\n",
       "      <td>You Are a Badass: How to Stop Doubting Your Gr...</td>\n",
       "      <td>Jen Sincero</td>\n",
       "      <td>4.7</td>\n",
       "      <td>14331</td>\n",
       "      <td>8</td>\n",
       "      <td>2017</td>\n",
       "      <td>Non Fiction</td>\n",
       "    </tr>\n",
       "    <tr>\n",
       "      <th>548</th>\n",
       "      <td>You Are a Badass: How to Stop Doubting Your Gr...</td>\n",
       "      <td>Jen Sincero</td>\n",
       "      <td>4.7</td>\n",
       "      <td>14331</td>\n",
       "      <td>8</td>\n",
       "      <td>2018</td>\n",
       "      <td>Non Fiction</td>\n",
       "    </tr>\n",
       "    <tr>\n",
       "      <th>549</th>\n",
       "      <td>You Are a Badass: How to Stop Doubting Your Gr...</td>\n",
       "      <td>Jen Sincero</td>\n",
       "      <td>4.7</td>\n",
       "      <td>14331</td>\n",
       "      <td>8</td>\n",
       "      <td>2019</td>\n",
       "      <td>Non Fiction</td>\n",
       "    </tr>\n",
       "  </tbody>\n",
       "</table>\n",
       "</div>"
      ],
      "text/plain": [
       "                                                  Name       Author  \\\n",
       "545       Wrecking Ball (Diary of a Wimpy Kid Book 14)  Jeff Kinney   \n",
       "546  You Are a Badass: How to Stop Doubting Your Gr...  Jen Sincero   \n",
       "547  You Are a Badass: How to Stop Doubting Your Gr...  Jen Sincero   \n",
       "548  You Are a Badass: How to Stop Doubting Your Gr...  Jen Sincero   \n",
       "549  You Are a Badass: How to Stop Doubting Your Gr...  Jen Sincero   \n",
       "\n",
       "     User Rating  Reviews  Price  Year        Genre  \n",
       "545          4.9     9413      8  2019      Fiction  \n",
       "546          4.7    14331      8  2016  Non Fiction  \n",
       "547          4.7    14331      8  2017  Non Fiction  \n",
       "548          4.7    14331      8  2018  Non Fiction  \n",
       "549          4.7    14331      8  2019  Non Fiction  "
      ]
     },
     "execution_count": 4,
     "metadata": {},
     "output_type": "execute_result"
    }
   ],
   "source": [
    "df.tail() # n = 550"
   ]
  },
  {
   "cell_type": "markdown",
   "id": "9a25e56b-63c2-4ed3-b0ee-c65eb1a2e54d",
   "metadata": {},
   "source": [
    "## A2 : Check null"
   ]
  },
  {
   "cell_type": "code",
   "execution_count": 5,
   "id": "8c46a059-1a3b-4458-b2bb-d566d84eb011",
   "metadata": {},
   "outputs": [
    {
     "data": {
      "text/html": [
       "<div>\n",
       "<style scoped>\n",
       "    .dataframe tbody tr th:only-of-type {\n",
       "        vertical-align: middle;\n",
       "    }\n",
       "\n",
       "    .dataframe tbody tr th {\n",
       "        vertical-align: top;\n",
       "    }\n",
       "\n",
       "    .dataframe thead th {\n",
       "        text-align: right;\n",
       "    }\n",
       "</style>\n",
       "<table border=\"1\" class=\"dataframe\">\n",
       "  <thead>\n",
       "    <tr style=\"text-align: right;\">\n",
       "      <th></th>\n",
       "      <th>Name</th>\n",
       "      <th>Author</th>\n",
       "      <th>User Rating</th>\n",
       "      <th>Reviews</th>\n",
       "      <th>Price</th>\n",
       "      <th>Year</th>\n",
       "      <th>Genre</th>\n",
       "    </tr>\n",
       "  </thead>\n",
       "  <tbody>\n",
       "    <tr>\n",
       "      <th>518</th>\n",
       "      <td>Unbroken: A World War II Story of Survival, Re...</td>\n",
       "      <td>Laura Hillenbrand</td>\n",
       "      <td>NaN</td>\n",
       "      <td>29673</td>\n",
       "      <td>13</td>\n",
       "      <td>2014</td>\n",
       "      <td>Non Fiction</td>\n",
       "    </tr>\n",
       "    <tr>\n",
       "      <th>521</th>\n",
       "      <td>Unfreedom of the Press</td>\n",
       "      <td>Mark R. Levin</td>\n",
       "      <td>NaN</td>\n",
       "      <td>5956</td>\n",
       "      <td>11</td>\n",
       "      <td>2019</td>\n",
       "      <td>Non Fiction</td>\n",
       "    </tr>\n",
       "    <tr>\n",
       "      <th>542</th>\n",
       "      <td>Wonder</td>\n",
       "      <td>R. J. Palacio</td>\n",
       "      <td>NaN</td>\n",
       "      <td>21625</td>\n",
       "      <td>9</td>\n",
       "      <td>2015</td>\n",
       "      <td>Fiction</td>\n",
       "    </tr>\n",
       "  </tbody>\n",
       "</table>\n",
       "</div>"
      ],
      "text/plain": [
       "                                                  Name             Author  \\\n",
       "518  Unbroken: A World War II Story of Survival, Re...  Laura Hillenbrand   \n",
       "521                             Unfreedom of the Press      Mark R. Levin   \n",
       "542                                             Wonder      R. J. Palacio   \n",
       "\n",
       "     User Rating  Reviews  Price  Year        Genre  \n",
       "518          NaN    29673     13  2014  Non Fiction  \n",
       "521          NaN     5956     11  2019  Non Fiction  \n",
       "542          NaN    21625      9  2015      Fiction  "
      ]
     },
     "execution_count": 5,
     "metadata": {},
     "output_type": "execute_result"
    }
   ],
   "source": [
    "df[df.isna().any(axis=1)]"
   ]
  },
  {
   "cell_type": "markdown",
   "id": "e66c56ea-5abf-435b-a3d7-272ddb799f8f",
   "metadata": {},
   "source": [
    "## A3 : Check Zero"
   ]
  },
  {
   "cell_type": "code",
   "execution_count": 6,
   "id": "439f56c1-16d5-4c69-8c9f-7b7511abc0fc",
   "metadata": {},
   "outputs": [
    {
     "name": "stdout",
     "output_type": "stream",
     "text": [
      "User Rating : 0\n",
      "Reviews : 0\n",
      "Price : 12\n",
      "Year : 1\n"
     ]
    }
   ],
   "source": [
    "print(\"User Rating :\",len(df[df['User Rating']==0]))\n",
    "print(\"Reviews :\",len(df[df['Reviews']==0]))\n",
    "print(\"Price :\",len(df[df['Price']==0]))\n",
    "print(\"Year :\",len(df[df['Year']==0]))"
   ]
  },
  {
   "cell_type": "markdown",
   "id": "355caa6b-0b13-4c0b-a86a-82427a8b3306",
   "metadata": {},
   "source": [
    "# Part B : ETL process"
   ]
  },
  {
   "cell_type": "markdown",
   "id": "b609da65-8f84-4094-902d-16a600b38b0c",
   "metadata": {},
   "source": [
    "## B1 : Extract by specific input"
   ]
  },
  {
   "cell_type": "code",
   "execution_count": 7,
   "id": "4ab71167-a899-496c-9d0b-78ccc25bdf55",
   "metadata": {},
   "outputs": [],
   "source": [
    "expect_input = {\n",
    "   'Name': 'str'\n",
    "   , 'Author': 'str'\n",
    "   , 'User Rating': 'float'\n",
    "   , 'Reviews': 'int'\n",
    "   , 'Price': 'int'\n",
    "   , 'Year': 'int'\n",
    "   , 'Genre': 'str'\n",
    "}\n",
    "raw_data = pd.read_csv('bestsellers with categories.csv'\n",
    "                       , dtype = expect_input\n",
    "                       , usecols = list(expect_input.keys())\n",
    "                       , header = 0\n",
    "                      )"
   ]
  },
  {
   "cell_type": "markdown",
   "id": "d13e3125-5197-4252-9c01-e856d489274d",
   "metadata": {},
   "source": [
    "## B2 : Transform & Load"
   ]
  },
  {
   "cell_type": "markdown",
   "id": "bc7b5f9b-8873-4943-bac3-a1618fc83593",
   "metadata": {},
   "source": [
    "### B2.1 : Change the column names to be clear & lower case"
   ]
  },
  {
   "cell_type": "code",
   "execution_count": 8,
   "id": "7ff62e14-b895-4739-b5a4-df1e548422a4",
   "metadata": {},
   "outputs": [],
   "source": [
    "book_reviews = raw_data.rename(columns={\n",
    "    'Name':'book_name'\n",
    "    , 'Author':'writer_name'\n",
    "    , 'User Rating':'user_rating'\n",
    "    , 'Reviews':'reviews'\n",
    "    , 'Price':'price'\n",
    "    , 'Year':'year'\n",
    "    , 'Genre':'category_name'\n",
    "})"
   ]
  },
  {
   "cell_type": "code",
   "execution_count": 9,
   "id": "9cb454ee-9cc9-42b6-8473-2e489f29e7be",
   "metadata": {},
   "outputs": [
    {
     "data": {
      "text/html": [
       "<div>\n",
       "<style scoped>\n",
       "    .dataframe tbody tr th:only-of-type {\n",
       "        vertical-align: middle;\n",
       "    }\n",
       "\n",
       "    .dataframe tbody tr th {\n",
       "        vertical-align: top;\n",
       "    }\n",
       "\n",
       "    .dataframe thead th {\n",
       "        text-align: right;\n",
       "    }\n",
       "</style>\n",
       "<table border=\"1\" class=\"dataframe\">\n",
       "  <thead>\n",
       "    <tr style=\"text-align: right;\">\n",
       "      <th></th>\n",
       "      <th>book_name</th>\n",
       "      <th>writer_name</th>\n",
       "      <th>user_rating</th>\n",
       "      <th>reviews</th>\n",
       "      <th>price</th>\n",
       "      <th>year</th>\n",
       "      <th>category_name</th>\n",
       "    </tr>\n",
       "  </thead>\n",
       "  <tbody>\n",
       "    <tr>\n",
       "      <th>545</th>\n",
       "      <td>Wrecking Ball (Diary of a Wimpy Kid Book 14)</td>\n",
       "      <td>Jeff Kinney</td>\n",
       "      <td>4.9</td>\n",
       "      <td>9413</td>\n",
       "      <td>8</td>\n",
       "      <td>2019</td>\n",
       "      <td>Fiction</td>\n",
       "    </tr>\n",
       "    <tr>\n",
       "      <th>546</th>\n",
       "      <td>You Are a Badass: How to Stop Doubting Your Gr...</td>\n",
       "      <td>Jen Sincero</td>\n",
       "      <td>4.7</td>\n",
       "      <td>14331</td>\n",
       "      <td>8</td>\n",
       "      <td>2016</td>\n",
       "      <td>Non Fiction</td>\n",
       "    </tr>\n",
       "    <tr>\n",
       "      <th>547</th>\n",
       "      <td>You Are a Badass: How to Stop Doubting Your Gr...</td>\n",
       "      <td>Jen Sincero</td>\n",
       "      <td>4.7</td>\n",
       "      <td>14331</td>\n",
       "      <td>8</td>\n",
       "      <td>2017</td>\n",
       "      <td>Non Fiction</td>\n",
       "    </tr>\n",
       "    <tr>\n",
       "      <th>548</th>\n",
       "      <td>You Are a Badass: How to Stop Doubting Your Gr...</td>\n",
       "      <td>Jen Sincero</td>\n",
       "      <td>4.7</td>\n",
       "      <td>14331</td>\n",
       "      <td>8</td>\n",
       "      <td>2018</td>\n",
       "      <td>Non Fiction</td>\n",
       "    </tr>\n",
       "    <tr>\n",
       "      <th>549</th>\n",
       "      <td>You Are a Badass: How to Stop Doubting Your Gr...</td>\n",
       "      <td>Jen Sincero</td>\n",
       "      <td>4.7</td>\n",
       "      <td>14331</td>\n",
       "      <td>8</td>\n",
       "      <td>2019</td>\n",
       "      <td>Non Fiction</td>\n",
       "    </tr>\n",
       "  </tbody>\n",
       "</table>\n",
       "</div>"
      ],
      "text/plain": [
       "                                             book_name  writer_name  \\\n",
       "545       Wrecking Ball (Diary of a Wimpy Kid Book 14)  Jeff Kinney   \n",
       "546  You Are a Badass: How to Stop Doubting Your Gr...  Jen Sincero   \n",
       "547  You Are a Badass: How to Stop Doubting Your Gr...  Jen Sincero   \n",
       "548  You Are a Badass: How to Stop Doubting Your Gr...  Jen Sincero   \n",
       "549  You Are a Badass: How to Stop Doubting Your Gr...  Jen Sincero   \n",
       "\n",
       "     user_rating  reviews  price  year category_name  \n",
       "545          4.9     9413      8  2019       Fiction  \n",
       "546          4.7    14331      8  2016   Non Fiction  \n",
       "547          4.7    14331      8  2017   Non Fiction  \n",
       "548          4.7    14331      8  2018   Non Fiction  \n",
       "549          4.7    14331      8  2019   Non Fiction  "
      ]
     },
     "execution_count": 9,
     "metadata": {},
     "output_type": "execute_result"
    }
   ],
   "source": [
    "book_reviews.tail()"
   ]
  },
  {
   "cell_type": "markdown",
   "id": "5ec91040-e251-4083-bf24-141f75af44fd",
   "metadata": {},
   "source": [
    "### B2.2 Update master table of category (category_list) on Postgres and Give category_id to book_reviews"
   ]
  },
  {
   "cell_type": "code",
   "execution_count": 10,
   "id": "c2a1b564-1a1d-4f1a-9518-61be1b5eceb1",
   "metadata": {
    "scrolled": true
   },
   "outputs": [],
   "source": [
    "category_list = book_reviews[['category_name']].drop_duplicates().reset_index(drop=True)\n",
    "pgsql_pd_insert(category_list, \"category_list\")\n",
    "\n",
    "category_list = pgsql_pd_read('SELECT \"id\" as category_id, \"category_name\" FROM pgdb.public.\"category_list\"')\n",
    "book_reviews = pd.merge(book_reviews, category_list, how='left',on=['category_name']).drop('category_name',axis=1)"
   ]
  },
  {
   "cell_type": "code",
   "execution_count": 11,
   "id": "f0752e6d-3823-4df6-86b5-3592ee685c70",
   "metadata": {},
   "outputs": [
    {
     "data": {
      "text/html": [
       "<div>\n",
       "<style scoped>\n",
       "    .dataframe tbody tr th:only-of-type {\n",
       "        vertical-align: middle;\n",
       "    }\n",
       "\n",
       "    .dataframe tbody tr th {\n",
       "        vertical-align: top;\n",
       "    }\n",
       "\n",
       "    .dataframe thead th {\n",
       "        text-align: right;\n",
       "    }\n",
       "</style>\n",
       "<table border=\"1\" class=\"dataframe\">\n",
       "  <thead>\n",
       "    <tr style=\"text-align: right;\">\n",
       "      <th></th>\n",
       "      <th>category_id</th>\n",
       "      <th>category_name</th>\n",
       "    </tr>\n",
       "  </thead>\n",
       "  <tbody>\n",
       "    <tr>\n",
       "      <th>0</th>\n",
       "      <td>1</td>\n",
       "      <td>Non Fiction</td>\n",
       "    </tr>\n",
       "    <tr>\n",
       "      <th>1</th>\n",
       "      <td>2</td>\n",
       "      <td>Fiction</td>\n",
       "    </tr>\n",
       "  </tbody>\n",
       "</table>\n",
       "</div>"
      ],
      "text/plain": [
       "   category_id category_name\n",
       "0            1   Non Fiction\n",
       "1            2       Fiction"
      ]
     },
     "execution_count": 11,
     "metadata": {},
     "output_type": "execute_result"
    }
   ],
   "source": [
    "category_list.head()"
   ]
  },
  {
   "cell_type": "markdown",
   "id": "74bf851f-bd42-4d31-a912-4172d95a000d",
   "metadata": {},
   "source": [
    "### B2.3 Update master table of writer (writer_list) on Postgres and Give writer_id to book_reviews"
   ]
  },
  {
   "cell_type": "code",
   "execution_count": 12,
   "id": "690b9bef-d83d-4b80-8a58-70b924bcca00",
   "metadata": {
    "scrolled": true
   },
   "outputs": [],
   "source": [
    "writer_list = book_reviews[['writer_name']].drop_duplicates().reset_index(drop=True)\n",
    "pgsql_pd_insert(writer_list, \"writer_list\")\n",
    "\n",
    "writer_list = pgsql_pd_read('SELECT \"id\" as writer_id, \"writer_name\" FROM pgdb.public.\"writer_list\"')\n",
    "book_reviews = pd.merge(book_reviews, writer_list, how='left',on=['writer_name']).drop('writer_name',axis=1)"
   ]
  },
  {
   "cell_type": "code",
   "execution_count": 13,
   "id": "08d0f7f1-0b92-4e86-8d70-56e24e5b7555",
   "metadata": {},
   "outputs": [
    {
     "data": {
      "text/html": [
       "<div>\n",
       "<style scoped>\n",
       "    .dataframe tbody tr th:only-of-type {\n",
       "        vertical-align: middle;\n",
       "    }\n",
       "\n",
       "    .dataframe tbody tr th {\n",
       "        vertical-align: top;\n",
       "    }\n",
       "\n",
       "    .dataframe thead th {\n",
       "        text-align: right;\n",
       "    }\n",
       "</style>\n",
       "<table border=\"1\" class=\"dataframe\">\n",
       "  <thead>\n",
       "    <tr style=\"text-align: right;\">\n",
       "      <th></th>\n",
       "      <th>writer_id</th>\n",
       "      <th>writer_name</th>\n",
       "    </tr>\n",
       "  </thead>\n",
       "  <tbody>\n",
       "    <tr>\n",
       "      <th>243</th>\n",
       "      <td>244</td>\n",
       "      <td>Cheryl Strayed</td>\n",
       "    </tr>\n",
       "    <tr>\n",
       "      <th>244</th>\n",
       "      <td>245</td>\n",
       "      <td>Ken Follett</td>\n",
       "    </tr>\n",
       "    <tr>\n",
       "      <th>245</th>\n",
       "      <td>246</td>\n",
       "      <td>Geneen Roth</td>\n",
       "    </tr>\n",
       "    <tr>\n",
       "      <th>246</th>\n",
       "      <td>247</td>\n",
       "      <td>R. J. Palacio</td>\n",
       "    </tr>\n",
       "    <tr>\n",
       "      <th>247</th>\n",
       "      <td>248</td>\n",
       "      <td>Jen Sincero</td>\n",
       "    </tr>\n",
       "  </tbody>\n",
       "</table>\n",
       "</div>"
      ],
      "text/plain": [
       "     writer_id     writer_name\n",
       "243        244  Cheryl Strayed\n",
       "244        245     Ken Follett\n",
       "245        246     Geneen Roth\n",
       "246        247   R. J. Palacio\n",
       "247        248     Jen Sincero"
      ]
     },
     "execution_count": 13,
     "metadata": {},
     "output_type": "execute_result"
    }
   ],
   "source": [
    "writer_list.tail()"
   ]
  },
  {
   "cell_type": "markdown",
   "id": "e3b3a059-5b52-46de-9319-dbfb2c5b403c",
   "metadata": {},
   "source": [
    "### B2.4 Update master table of book (book_list) on Postgres and Give book_id to book_reviews"
   ]
  },
  {
   "cell_type": "code",
   "execution_count": 14,
   "id": "9b3d982c-9d90-48b1-9410-e948f1daa6e7",
   "metadata": {
    "scrolled": true
   },
   "outputs": [],
   "source": [
    "book_list = book_reviews[['book_name','category_id','writer_id']].drop_duplicates().reset_index(drop=True)\n",
    "pgsql_pd_insert(book_list, \"book_list\")\n",
    "\n",
    "book_list = pgsql_pd_read('SELECT \"id\" as book_id, \"book_name\" FROM pgdb.public.\"book_list\"')\n",
    "book_reviews = pd.merge(book_reviews, book_list, how='left',on=['book_name']).drop('book_name',axis=1)\n",
    "book_reviews = book_reviews.drop(['category_id','writer_id'],axis=1)"
   ]
  },
  {
   "cell_type": "code",
   "execution_count": 15,
   "id": "18572df9-3691-4a24-b134-a6af9d9619a7",
   "metadata": {},
   "outputs": [
    {
     "data": {
      "text/html": [
       "<div>\n",
       "<style scoped>\n",
       "    .dataframe tbody tr th:only-of-type {\n",
       "        vertical-align: middle;\n",
       "    }\n",
       "\n",
       "    .dataframe tbody tr th {\n",
       "        vertical-align: top;\n",
       "    }\n",
       "\n",
       "    .dataframe thead th {\n",
       "        text-align: right;\n",
       "    }\n",
       "</style>\n",
       "<table border=\"1\" class=\"dataframe\">\n",
       "  <thead>\n",
       "    <tr style=\"text-align: right;\">\n",
       "      <th></th>\n",
       "      <th>book_id</th>\n",
       "      <th>book_name</th>\n",
       "    </tr>\n",
       "  </thead>\n",
       "  <tbody>\n",
       "    <tr>\n",
       "      <th>346</th>\n",
       "      <td>347</td>\n",
       "      <td>Winter of the World: Book Two of the Century T...</td>\n",
       "    </tr>\n",
       "    <tr>\n",
       "      <th>347</th>\n",
       "      <td>348</td>\n",
       "      <td>Women Food and God: An Unexpected Path to Almo...</td>\n",
       "    </tr>\n",
       "    <tr>\n",
       "      <th>348</th>\n",
       "      <td>349</td>\n",
       "      <td>Wonder</td>\n",
       "    </tr>\n",
       "    <tr>\n",
       "      <th>349</th>\n",
       "      <td>350</td>\n",
       "      <td>Wrecking Ball (Diary of a Wimpy Kid Book 14)</td>\n",
       "    </tr>\n",
       "    <tr>\n",
       "      <th>350</th>\n",
       "      <td>351</td>\n",
       "      <td>You Are a Badass: How to Stop Doubting Your Gr...</td>\n",
       "    </tr>\n",
       "  </tbody>\n",
       "</table>\n",
       "</div>"
      ],
      "text/plain": [
       "     book_id                                          book_name\n",
       "346      347  Winter of the World: Book Two of the Century T...\n",
       "347      348  Women Food and God: An Unexpected Path to Almo...\n",
       "348      349                                             Wonder\n",
       "349      350       Wrecking Ball (Diary of a Wimpy Kid Book 14)\n",
       "350      351  You Are a Badass: How to Stop Doubting Your Gr..."
      ]
     },
     "execution_count": 15,
     "metadata": {},
     "output_type": "execute_result"
    }
   ],
   "source": [
    "book_list.tail()"
   ]
  },
  {
   "cell_type": "markdown",
   "id": "8dc864ea-cee4-4b5e-8869-79a7193e83b3",
   "metadata": {},
   "source": [
    "### B2.5 Insert data to book_reviews table on Postgres"
   ]
  },
  {
   "cell_type": "code",
   "execution_count": 16,
   "id": "f60ed7bc-72d8-4af8-84ad-e037399a5c9c",
   "metadata": {},
   "outputs": [],
   "source": [
    "book_reviews.loc[book_reviews['year'] == 0,'year'] = None ## clean year = 0"
   ]
  },
  {
   "cell_type": "code",
   "execution_count": 17,
   "id": "dce5a9ba-8ece-4137-b2b1-b5176854c3e7",
   "metadata": {
    "scrolled": true
   },
   "outputs": [],
   "source": [
    "pgsql_pd_insert(book_reviews, \"book_reviews\")"
   ]
  },
  {
   "cell_type": "code",
   "execution_count": 18,
   "id": "3b1edb6f-d3a6-4253-9bcc-23764c1b874b",
   "metadata": {},
   "outputs": [
    {
     "data": {
      "text/html": [
       "<div>\n",
       "<style scoped>\n",
       "    .dataframe tbody tr th:only-of-type {\n",
       "        vertical-align: middle;\n",
       "    }\n",
       "\n",
       "    .dataframe tbody tr th {\n",
       "        vertical-align: top;\n",
       "    }\n",
       "\n",
       "    .dataframe thead th {\n",
       "        text-align: right;\n",
       "    }\n",
       "</style>\n",
       "<table border=\"1\" class=\"dataframe\">\n",
       "  <thead>\n",
       "    <tr style=\"text-align: right;\">\n",
       "      <th></th>\n",
       "      <th>user_rating</th>\n",
       "      <th>reviews</th>\n",
       "      <th>price</th>\n",
       "      <th>year</th>\n",
       "      <th>book_id</th>\n",
       "    </tr>\n",
       "  </thead>\n",
       "  <tbody>\n",
       "    <tr>\n",
       "      <th>545</th>\n",
       "      <td>4.9</td>\n",
       "      <td>9413</td>\n",
       "      <td>8</td>\n",
       "      <td>2019.0</td>\n",
       "      <td>350</td>\n",
       "    </tr>\n",
       "    <tr>\n",
       "      <th>546</th>\n",
       "      <td>4.7</td>\n",
       "      <td>14331</td>\n",
       "      <td>8</td>\n",
       "      <td>2016.0</td>\n",
       "      <td>351</td>\n",
       "    </tr>\n",
       "    <tr>\n",
       "      <th>547</th>\n",
       "      <td>4.7</td>\n",
       "      <td>14331</td>\n",
       "      <td>8</td>\n",
       "      <td>2017.0</td>\n",
       "      <td>351</td>\n",
       "    </tr>\n",
       "    <tr>\n",
       "      <th>548</th>\n",
       "      <td>4.7</td>\n",
       "      <td>14331</td>\n",
       "      <td>8</td>\n",
       "      <td>2018.0</td>\n",
       "      <td>351</td>\n",
       "    </tr>\n",
       "    <tr>\n",
       "      <th>549</th>\n",
       "      <td>4.7</td>\n",
       "      <td>14331</td>\n",
       "      <td>8</td>\n",
       "      <td>2019.0</td>\n",
       "      <td>351</td>\n",
       "    </tr>\n",
       "  </tbody>\n",
       "</table>\n",
       "</div>"
      ],
      "text/plain": [
       "     user_rating  reviews  price    year  book_id\n",
       "545          4.9     9413      8  2019.0      350\n",
       "546          4.7    14331      8  2016.0      351\n",
       "547          4.7    14331      8  2017.0      351\n",
       "548          4.7    14331      8  2018.0      351\n",
       "549          4.7    14331      8  2019.0      351"
      ]
     },
     "execution_count": 18,
     "metadata": {},
     "output_type": "execute_result"
    }
   ],
   "source": [
    "book_reviews.tail()"
   ]
  },
  {
   "cell_type": "markdown",
   "id": "0cc22eda-b89c-4d62-8234-6387156fc3e2",
   "metadata": {},
   "source": [
    "# PART C : Simple Analytic"
   ]
  },
  {
   "cell_type": "code",
   "execution_count": 19,
   "id": "6419d33d-cbba-4714-b236-bdbc970ed1d4",
   "metadata": {},
   "outputs": [],
   "source": [
    "ana_df = pgsql_pd_read('SELECT count(*) as Total_writer FROM pgdb.public.\"writer_list\"')"
   ]
  },
  {
   "cell_type": "code",
   "execution_count": 20,
   "id": "005873e8-d560-48ee-ac31-1ef710461fd2",
   "metadata": {},
   "outputs": [
    {
     "data": {
      "text/html": [
       "<div>\n",
       "<style scoped>\n",
       "    .dataframe tbody tr th:only-of-type {\n",
       "        vertical-align: middle;\n",
       "    }\n",
       "\n",
       "    .dataframe tbody tr th {\n",
       "        vertical-align: top;\n",
       "    }\n",
       "\n",
       "    .dataframe thead th {\n",
       "        text-align: right;\n",
       "    }\n",
       "</style>\n",
       "<table border=\"1\" class=\"dataframe\">\n",
       "  <thead>\n",
       "    <tr style=\"text-align: right;\">\n",
       "      <th></th>\n",
       "      <th>total_writer</th>\n",
       "    </tr>\n",
       "  </thead>\n",
       "  <tbody>\n",
       "    <tr>\n",
       "      <th>0</th>\n",
       "      <td>248</td>\n",
       "    </tr>\n",
       "  </tbody>\n",
       "</table>\n",
       "</div>"
      ],
      "text/plain": [
       "   total_writer\n",
       "0           248"
      ]
     },
     "execution_count": 20,
     "metadata": {},
     "output_type": "execute_result"
    }
   ],
   "source": [
    "ana_df"
   ]
  },
  {
   "cell_type": "code",
   "execution_count": 21,
   "id": "7c9b7ec6-e094-4ea8-92bc-0969ff660dbc",
   "metadata": {},
   "outputs": [],
   "source": [
    "ana_df = pgsql_pd_read('SELECT year, count(*) as Total_review FROM pgdb.public.\"book_reviews\" WHERE year is not null GROUP BY year')"
   ]
  },
  {
   "cell_type": "code",
   "execution_count": 22,
   "id": "a074fc23-b7cb-4888-8f91-d619d3189d6e",
   "metadata": {},
   "outputs": [
    {
     "data": {
      "text/html": [
       "<div>\n",
       "<style scoped>\n",
       "    .dataframe tbody tr th:only-of-type {\n",
       "        vertical-align: middle;\n",
       "    }\n",
       "\n",
       "    .dataframe tbody tr th {\n",
       "        vertical-align: top;\n",
       "    }\n",
       "\n",
       "    .dataframe thead th {\n",
       "        text-align: right;\n",
       "    }\n",
       "</style>\n",
       "<table border=\"1\" class=\"dataframe\">\n",
       "  <thead>\n",
       "    <tr style=\"text-align: right;\">\n",
       "      <th></th>\n",
       "      <th>year</th>\n",
       "      <th>total_review</th>\n",
       "    </tr>\n",
       "  </thead>\n",
       "  <tbody>\n",
       "    <tr>\n",
       "      <th>0</th>\n",
       "      <td>2017</td>\n",
       "      <td>49</td>\n",
       "    </tr>\n",
       "    <tr>\n",
       "      <th>1</th>\n",
       "      <td>2009</td>\n",
       "      <td>50</td>\n",
       "    </tr>\n",
       "    <tr>\n",
       "      <th>2</th>\n",
       "      <td>2013</td>\n",
       "      <td>50</td>\n",
       "    </tr>\n",
       "    <tr>\n",
       "      <th>3</th>\n",
       "      <td>2016</td>\n",
       "      <td>50</td>\n",
       "    </tr>\n",
       "    <tr>\n",
       "      <th>4</th>\n",
       "      <td>2018</td>\n",
       "      <td>50</td>\n",
       "    </tr>\n",
       "    <tr>\n",
       "      <th>5</th>\n",
       "      <td>2014</td>\n",
       "      <td>50</td>\n",
       "    </tr>\n",
       "    <tr>\n",
       "      <th>6</th>\n",
       "      <td>2012</td>\n",
       "      <td>50</td>\n",
       "    </tr>\n",
       "    <tr>\n",
       "      <th>7</th>\n",
       "      <td>2015</td>\n",
       "      <td>50</td>\n",
       "    </tr>\n",
       "    <tr>\n",
       "      <th>8</th>\n",
       "      <td>2010</td>\n",
       "      <td>50</td>\n",
       "    </tr>\n",
       "    <tr>\n",
       "      <th>9</th>\n",
       "      <td>2019</td>\n",
       "      <td>50</td>\n",
       "    </tr>\n",
       "    <tr>\n",
       "      <th>10</th>\n",
       "      <td>2011</td>\n",
       "      <td>50</td>\n",
       "    </tr>\n",
       "  </tbody>\n",
       "</table>\n",
       "</div>"
      ],
      "text/plain": [
       "    year  total_review\n",
       "0   2017            49\n",
       "1   2009            50\n",
       "2   2013            50\n",
       "3   2016            50\n",
       "4   2018            50\n",
       "5   2014            50\n",
       "6   2012            50\n",
       "7   2015            50\n",
       "8   2010            50\n",
       "9   2019            50\n",
       "10  2011            50"
      ]
     },
     "execution_count": 22,
     "metadata": {},
     "output_type": "execute_result"
    }
   ],
   "source": [
    "ana_df"
   ]
  }
 ],
 "metadata": {
  "kernelspec": {
   "display_name": "Python 3 (ipykernel)",
   "language": "python",
   "name": "python3"
  },
  "language_info": {
   "codemirror_mode": {
    "name": "ipython",
    "version": 3
   },
   "file_extension": ".py",
   "mimetype": "text/x-python",
   "name": "python",
   "nbconvert_exporter": "python",
   "pygments_lexer": "ipython3",
   "version": "3.11.6"
  }
 },
 "nbformat": 4,
 "nbformat_minor": 5
}
